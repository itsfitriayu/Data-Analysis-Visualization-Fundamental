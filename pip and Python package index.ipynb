{
 "cells": [
  {
   "cell_type": "code",
   "execution_count": 2,
   "metadata": {},
   "outputs": [
    {
     "name": "stdout",
     "output_type": "stream",
     "text": [
      "Requirement already satisfied: pandas in c:\\users\\fitri.ayu\\appdata\\local\\programs\\python\\python38\\lib\\site-packages (1.0.3)\n",
      "Requirement already satisfied: python-dateutil>=2.6.1 in c:\\users\\fitri.ayu\\appdata\\local\\programs\\python\\python38\\lib\\site-packages (from pandas) (2.8.1)\n",
      "Requirement already satisfied: pytz>=2017.2 in c:\\users\\fitri.ayu\\appdata\\local\\programs\\python\\python38\\lib\\site-packages (from pandas) (2020.1)\n",
      "Requirement already satisfied: numpy>=1.13.3 in c:\\users\\fitri.ayu\\appdata\\local\\programs\\python\\python38\\lib\\site-packages (from pandas) (1.18.4)\n",
      "Requirement already satisfied: six>=1.5 in c:\\users\\fitri.ayu\\appdata\\local\\programs\\python\\python38\\lib\\site-packages (from python-dateutil>=2.6.1->pandas) (1.14.0)\n"
     ]
    },
    {
     "name": "stderr",
     "output_type": "stream",
     "text": [
      "WARNING: You are using pip version 19.2.3, however version 20.1 is available.\n",
      "You should consider upgrading via the 'python -m pip install --upgrade pip' command.\n"
     ]
    }
   ],
   "source": [
    "!pip install pandas"
   ]
  },
  {
   "cell_type": "code",
   "execution_count": 3,
   "metadata": {},
   "outputs": [
    {
     "name": "stdout",
     "output_type": "stream",
     "text": [
      "Uninstalling pandas-1.0.3:\n",
      "  Successfully uninstalled pandas-1.0.3\n"
     ]
    }
   ],
   "source": [
    "!pip uninstall -y pandas"
   ]
  },
  {
   "cell_type": "code",
   "execution_count": 4,
   "metadata": {},
   "outputs": [
    {
     "name": "stdout",
     "output_type": "stream",
     "text": [
      "C:\\Users\\fitri.ayu\\Desktop\\NewProject\n"
     ]
    }
   ],
   "source": [
    "!cd"
   ]
  },
  {
   "cell_type": "code",
   "execution_count": 5,
   "metadata": {},
   "outputs": [
    {
     "name": "stdout",
     "output_type": "stream",
     "text": [
      "attrs==19.3.0\n",
      "backcall==0.1.0\n",
      "bleach==3.1.5\n",
      "colorama==0.4.3\n",
      "decorator==4.4.2\n",
      "defusedxml==0.6.0\n",
      "entrypoints==0.3\n",
      "ipykernel==5.2.1\n",
      "ipython==7.14.0\n",
      "ipython-genutils==0.2.0\n",
      "jedi==0.17.0\n",
      "Jinja2==2.11.2\n",
      "jsonschema==3.2.0\n",
      "jupyter-client==6.1.3\n",
      "jupyter-core==4.6.3\n",
      "MarkupSafe==1.1.1\n",
      "mistune==0.8.4\n",
      "nbconvert==5.6.1\n",
      "nbformat==5.0.6\n",
      "notebook==6.0.3\n",
      "numpy==1.18.4\n",
      "packaging==20.3\n",
      "pandocfilters==1.4.2\n",
      "parso==0.7.0\n",
      "pickleshare==0.7.5\n",
      "prometheus-client==0.7.1\n",
      "prompt-toolkit==3.0.5\n",
      "Pygments==2.6.1\n",
      "pyparsing==2.4.7\n",
      "pyrsistent==0.16.0\n",
      "python-dateutil==2.8.1\n",
      "pytz==2020.1\n",
      "pywin32==227\n",
      "pywinpty==0.5.7\n",
      "pyzmq==19.0.0\n",
      "Send2Trash==1.5.0\n",
      "six==1.14.0\n",
      "terminado==0.8.3\n",
      "testpath==0.4.4\n",
      "tornado==6.0.4\n",
      "traitlets==4.3.3\n",
      "wcwidth==0.1.9\n",
      "webencodings==0.5.1\n"
     ]
    }
   ],
   "source": [
    "!pip freeze AllPackages.txt"
   ]
  },
  {
   "cell_type": "code",
   "execution_count": 6,
   "metadata": {},
   "outputs": [
    {
     "name": "stdout",
     "output_type": "stream",
     "text": [
      " Volume in drive C is Windows\n",
      " Volume Serial Number is 0F68-D6A0\n",
      "\n",
      " Directory of C:\\Users\\fitri.ayu\\Desktop\\NewProject\n",
      "\n",
      "06/05/2020  22:16    <DIR>          .\n",
      "06/05/2020  22:16    <DIR>          ..\n",
      "06/05/2020  22:15    <DIR>          .ipynb_checkpoints\n",
      "06/05/2020  21:28               763 FirstCode.ipynb\n",
      "06/05/2020  22:16             1.932 pip and Python package index.ipynb\n",
      "               2 File(s)          2.695 bytes\n",
      "               3 Dir(s)  175.395.737.600 bytes free\n"
     ]
    }
   ],
   "source": [
    "!dir"
   ]
  },
  {
   "cell_type": "code",
   "execution_count": null,
   "metadata": {},
   "outputs": [],
   "source": []
  }
 ],
 "metadata": {
  "kernelspec": {
   "display_name": "Python 3",
   "language": "python",
   "name": "python3"
  },
  "language_info": {
   "codemirror_mode": {
    "name": "ipython",
    "version": 3
   },
   "file_extension": ".py",
   "mimetype": "text/x-python",
   "name": "python",
   "nbconvert_exporter": "python",
   "pygments_lexer": "ipython3",
   "version": "3.8.2"
  }
 },
 "nbformat": 4,
 "nbformat_minor": 4
}
