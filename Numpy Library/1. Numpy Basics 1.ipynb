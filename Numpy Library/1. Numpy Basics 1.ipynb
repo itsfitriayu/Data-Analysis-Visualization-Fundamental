{
 "cells": [
  {
   "cell_type": "code",
   "execution_count": 1,
   "metadata": {},
   "outputs": [],
   "source": [
    "import numpy as np"
   ]
  },
  {
   "cell_type": "code",
   "execution_count": 3,
   "metadata": {
    "scrolled": true
   },
   "outputs": [
    {
     "name": "stdout",
     "output_type": "stream",
     "text": [
      "[101 102 103]\n"
     ]
    }
   ],
   "source": [
    "#Create ID Numpy Array\n",
    "\n",
    "mylist1 = [101,102,103]\n",
    "myArray = np.array(mylist1)\n",
    "\n",
    "print(myArray)"
   ]
  },
  {
   "cell_type": "code",
   "execution_count": 6,
   "metadata": {},
   "outputs": [
    {
     "name": "stdout",
     "output_type": "stream",
     "text": [
      "[[101 102 103]\n",
      " [201 202 203]]\n"
     ]
    }
   ],
   "source": [
    "#Creating 2D NP Array\n",
    "\n",
    "mylist2 = [201,202,203]\n",
    "myArray2D = np.array([mylist1,mylist2])\n",
    "\n",
    "print(myArray2D)"
   ]
  },
  {
   "cell_type": "code",
   "execution_count": 8,
   "metadata": {},
   "outputs": [
    {
     "name": "stdout",
     "output_type": "stream",
     "text": [
      "My ArrayDimension\n",
      "(3,)\n",
      "My Array2D Dimension\n",
      "(2, 3)\n"
     ]
    }
   ],
   "source": [
    "#Findeing Dimension of Arrayshape\n",
    "\n",
    "print(\"My ArrayDimension\")\n",
    "print(myArray.shape)\n",
    "print(\"My Array2D Dimension\")\n",
    "print(myArray2D.shape)"
   ]
  },
  {
   "cell_type": "code",
   "execution_count": 9,
   "metadata": {},
   "outputs": [
    {
     "name": "stdout",
     "output_type": "stream",
     "text": [
      "My Array Data Type\n",
      "int32\n",
      "My Array2D Data Type\n",
      "int32\n"
     ]
    }
   ],
   "source": [
    "#Finding Datatype of arra - dtype\n",
    "\n",
    "print(\"My Array Data Type\")\n",
    "print(myArray.dtype)\n",
    "print(\"My Array2D Data Type\")\n",
    "print(myArray2D.dtype)"
   ]
  },
  {
   "cell_type": "code",
   "execution_count": 18,
   "metadata": {},
   "outputs": [
    {
     "name": "stdout",
     "output_type": "stream",
     "text": [
      "One Dimension\n",
      "[0. 0. 0. 0. 0.]\n",
      "Two Dimension\n",
      "[[0. 0. 0. 0. 0.]\n",
      " [0. 0. 0. 0. 0.]\n",
      " [0. 0. 0. 0. 0.]\n",
      " [0. 0. 0. 0. 0.]\n",
      " [0. 0. 0. 0. 0.]]\n"
     ]
    }
   ],
   "source": [
    "#Array creation and intaliazation function - zeroes\n",
    "\n",
    "print(\"One Dimension\")\n",
    "zero_array = np.zeros(5)\n",
    "print(zero_array)\n",
    "print(\"Two Dimension\")\n",
    "zero_array2D = np.zeros([5,5])\n",
    "print(zero_array2D)"
   ]
  },
  {
   "cell_type": "code",
   "execution_count": 19,
   "metadata": {},
   "outputs": [
    {
     "name": "stdout",
     "output_type": "stream",
     "text": [
      "One Dimension\n",
      "[0. 0. 0. 0. 0.]\n",
      "Two Dimension\n",
      "[[0. 0. 0. 0. 0.]\n",
      " [0. 0. 0. 0. 0.]\n",
      " [0. 0. 0. 0. 0.]\n",
      " [0. 0. 0. 0. 0.]\n",
      " [0. 0. 0. 0. 0.]]\n"
     ]
    }
   ],
   "source": [
    "#Array creation and intaliazation function - empty\n",
    "#Caution the this empty function more like junction values\n",
    "\n",
    "print(\"One Dimension\")\n",
    "empty_array = np.empty(5)\n",
    "print(empty_array)\n",
    "print(\"Two Dimension\")\n",
    "empty_array2D = np.empty([5,5])\n",
    "print(empty_array2D)"
   ]
  },
  {
   "cell_type": "code",
   "execution_count": 17,
   "metadata": {},
   "outputs": [
    {
     "name": "stdout",
     "output_type": "stream",
     "text": [
      "One Dimension\n",
      "[1. 1. 1. 1. 1.]\n",
      "Two Dimension\n",
      "[[1. 1. 1. 1. 1.]\n",
      " [1. 1. 1. 1. 1.]\n",
      " [1. 1. 1. 1. 1.]\n",
      " [1. 1. 1. 1. 1.]\n",
      " [1. 1. 1. 1. 1.]]\n"
     ]
    }
   ],
   "source": [
    "#Array creation and intaliazation function - ones\n",
    "\n",
    "print(\"One Dimension\")\n",
    "ones_array = np.ones(5)\n",
    "print(ones_array)\n",
    "print(\"Two Dimension\")\n",
    "ones_array2D = np.ones([5,5])\n",
    "print(ones_array2D)"
   ]
  },
  {
   "cell_type": "code",
   "execution_count": 20,
   "metadata": {},
   "outputs": [
    {
     "name": "stdout",
     "output_type": "stream",
     "text": [
      "[[1. 0. 0.]\n",
      " [0. 1. 0.]\n",
      " [0. 0. 1.]]\n"
     ]
    }
   ],
   "source": [
    "#Array creation and intaliazation function - eye\n",
    "#To create identity matrics\n",
    "\n",
    "Identity_Array = np.eye(3)\n",
    "print(Identity_Array)"
   ]
  },
  {
   "cell_type": "code",
   "execution_count": 27,
   "metadata": {},
   "outputs": [
    {
     "name": "stdout",
     "output_type": "stream",
     "text": [
      "[ 0  2  4  6  8 10 12 14 16 18]\n"
     ]
    }
   ],
   "source": [
    "#Array creation and intaliazation function - arrange\n",
    "#To create aritmatic progression\n",
    "\n",
    "Ap_array = np.arange(0,20,2)\n",
    "print(Ap_array)"
   ]
  }
 ],
 "metadata": {
  "kernelspec": {
   "display_name": "Python 3",
   "language": "python",
   "name": "python3"
  },
  "language_info": {
   "codemirror_mode": {
    "name": "ipython",
    "version": 3
   },
   "file_extension": ".py",
   "mimetype": "text/x-python",
   "name": "python",
   "nbconvert_exporter": "python",
   "pygments_lexer": "ipython3",
   "version": "3.8.2"
  }
 },
 "nbformat": 4,
 "nbformat_minor": 4
}
