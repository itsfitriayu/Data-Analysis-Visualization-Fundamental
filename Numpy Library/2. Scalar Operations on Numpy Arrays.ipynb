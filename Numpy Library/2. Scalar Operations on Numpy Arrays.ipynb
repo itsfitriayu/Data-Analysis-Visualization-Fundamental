{
 "cells": [
  {
   "cell_type": "code",
   "execution_count": 9,
   "metadata": {},
   "outputs": [],
   "source": [
    "import numpy as np"
   ]
  },
  {
   "cell_type": "code",
   "execution_count": 2,
   "metadata": {},
   "outputs": [],
   "source": [
    "#What is scalar operation\n",
    "#simple mat ops that perform of each element easy to implement and understand"
   ]
  },
  {
   "cell_type": "code",
   "execution_count": 11,
   "metadata": {},
   "outputs": [
    {
     "name": "stdout",
     "output_type": "stream",
     "text": [
      "[[1 2 3]\n",
      " [5 6 7]]\n"
     ]
    }
   ],
   "source": [
    "#Scalar Array Multiplication using * operator\n",
    "arr1 = np.array([[1,2,3],[5,6,7]])\n",
    "print(arr1)"
   ]
  },
  {
   "cell_type": "code",
   "execution_count": 12,
   "metadata": {},
   "outputs": [
    {
     "name": "stdout",
     "output_type": "stream",
     "text": [
      "[[ 1  4  9]\n",
      " [25 36 49]]\n"
     ]
    }
   ],
   "source": [
    "arr2 = arr1 * arr1\n",
    "print(arr2)"
   ]
  },
  {
   "cell_type": "code",
   "execution_count": 13,
   "metadata": {},
   "outputs": [
    {
     "name": "stdout",
     "output_type": "stream",
     "text": [
      "[[ 1  4  9]\n",
      " [25 36 49]]\n"
     ]
    }
   ],
   "source": [
    "#Exponantial Multiply using** array (square2)\n",
    "arr3 = arr1 ** 2\n",
    "print(arr3)"
   ]
  },
  {
   "cell_type": "code",
   "execution_count": 14,
   "metadata": {},
   "outputs": [
    {
     "name": "stdout",
     "output_type": "stream",
     "text": [
      "[[ 0  2  6]\n",
      " [20 30 42]]\n"
     ]
    }
   ],
   "source": [
    "#Scalar substraction of array elements\n",
    "arr4 = arr3 - arr1\n",
    "print(arr4)"
   ]
  },
  {
   "cell_type": "code",
   "execution_count": 15,
   "metadata": {},
   "outputs": [
    {
     "name": "stdout",
     "output_type": "stream",
     "text": [
      "[[1.         0.5        0.33333333]\n",
      " [0.2        0.16666667 0.14285714]]\n"
     ]
    }
   ],
   "source": [
    "#Scalar Division of array elements\n",
    "arr5 = 1/arr1\n",
    "print(arr5)"
   ]
  }
 ],
 "metadata": {
  "kernelspec": {
   "display_name": "Python 3",
   "language": "python",
   "name": "python3"
  },
  "language_info": {
   "codemirror_mode": {
    "name": "ipython",
    "version": 3
   },
   "file_extension": ".py",
   "mimetype": "text/x-python",
   "name": "python",
   "nbconvert_exporter": "python",
   "pygments_lexer": "ipython3",
   "version": "3.8.2"
  }
 },
 "nbformat": 4,
 "nbformat_minor": 4
}
